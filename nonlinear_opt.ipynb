{
 "cells": [
  {
   "cell_type": "code",
   "execution_count": 1,
   "metadata": {},
   "outputs": [],
   "source": [
    "import json\n",
    "import time\n",
    "import datetime\n",
    "import requests\n",
    "import pybybit\n",
    "import numpy as np\n",
    "import pandas as pd\n",
    "from sklearn.linear_model import LinearRegression, Ridge\n",
    "\n",
    "from config import get_config\n",
    "from logic_funcs import feature_engineering, get_model, logic\n",
    "from data_get_funcs import get_btc_ohlcv, get_depth, get_data\n",
    "from bybit_funcs import get_position, market_order\n",
    "from utils import discord_Notify\n",
    "\n"
   ]
  },
  {
   "cell_type": "code",
   "execution_count": 2,
   "metadata": {},
   "outputs": [
    {
     "name": "stdout",
     "output_type": "stream",
     "text": [
      "[18.40553538]\n"
     ]
    }
   ],
   "source": [
    "df = get_data()\n",
    "df, feats = feature_engineering(df)\n",
    "model = get_model(df, feats)\n",
    "p = model.predict(df[feats].values[-1].reshape(1, -1))\n",
    "print(p)"
   ]
  },
  {
   "cell_type": "code",
   "execution_count": null,
   "metadata": {},
   "outputs": [],
   "source": []
  },
  {
   "cell_type": "code",
   "execution_count": null,
   "metadata": {},
   "outputs": [],
   "source": []
  },
  {
   "cell_type": "code",
   "execution_count": 7,
   "metadata": {},
   "outputs": [],
   "source": [
    "from bitmex import bitmex\n",
    "def get_eth():\n",
    "    config = get_config()\n",
    "    bitmex_client = bitmex(test=False, api_key=config[\"bitmex_key\"], api_secret=config[\"bitmex_secret\"])\n",
    "    symbol = \"ETH\"\n",
    "    t = datetime.datetime.strptime(\"2018-8\", \"%Y-%M\") ## これより過去は取れない\n",
    "    df_eth = pd.DataFrame(bitmex_client.Trade.Trade_getBucketed(symbol=symbol, binSize=\"1d\", count=1000, reverse=False, startTime = t).result()[0])\n",
    "    df_eth = df_eth[[\"timestamp\", \"open\", \"high\", \"low\", \"close\", \"trades\", \"volume\", \"vwap\"]]\n",
    "    df_eth = df_eth.add_suffix(\"_eth\")\n",
    "    df_eth[\"time\"] = df_eth[\"timestamp_eth\"].apply(lambda a : datetime.datetime.strptime(str(a).split(\"+\")[0], \"%Y-%m-%d  %H:%M:%S\"))\n",
    "    return df_eth"
   ]
  },
  {
   "cell_type": "code",
   "execution_count": 8,
   "metadata": {},
   "outputs": [],
   "source": [
    "\n",
    "def get_data():\n",
    "    data = get_btc_ohlcv()\n",
    "    dep = get_depth()\n",
    "    df = data.merge(dep)\n",
    "    eth = get_eth()\n",
    "    df = df.merge(eth, on = \"time\")\n",
    "    feats = [\"time\", \"close\", \"open\", \"high\", \"low\", \"volume\",\n",
    "    \"asks5\", \"bids5\", \"asks10\", \"bids10\", \"asks20\", \"bids20\", \"asks30\", \"bids30\", \"asks50\", \"bids50\", \"asks90\", \"bids90\"]\n",
    "    feats += [\"open_eth\", \"high_eth\", \"low_eth\", \"close_eth\", \"trades_eth\", \"volume_eth\", \"vwap_eth\"]\n",
    "    df = df[feats]\n",
    "    return df\n"
   ]
  },
  {
   "cell_type": "code",
   "execution_count": 41,
   "metadata": {},
   "outputs": [
    {
     "name": "stderr",
     "output_type": "stream",
     "text": [
      "/opt/conda/lib/python3.6/site-packages/swagger_spec_validator/validator20.py:53: SwaggerValidationWarning: Found \"$ref: #/definitions/UserPreferences\" with siblings that will be overwritten. See https://stackoverflow.com/a/48114924 for more information. (path #/definitions/User/properties/preferences)\n",
      "  ref_dict['$ref'], '/'.join(path),\n"
     ]
    }
   ],
   "source": [
    "df = get_data()"
   ]
  },
  {
   "cell_type": "code",
   "execution_count": 42,
   "metadata": {},
   "outputs": [],
   "source": [
    "pd.to_pickle(df, \"data.pkl\")"
   ]
  },
  {
   "cell_type": "code",
   "execution_count": null,
   "metadata": {},
   "outputs": [],
   "source": []
  },
  {
   "cell_type": "code",
   "execution_count": 261,
   "metadata": {},
   "outputs": [],
   "source": [
    "import matplotlib.pyplot as plt\n",
    "%matplotlib inline\n",
    "import seaborn as sns\n",
    "from sklearn.linear_model import LinearRegression, Ridge, Lasso\n",
    "from lightgbm import LGBMRegressor, LGBMClassifier\n",
    "from sklearn.metrics import roc_auc_score\n",
    "from sklearn.preprocessing import StandardScaler\n",
    "\n",
    "def evaluate(df, feats):\n",
    "    for f in feats:\n",
    "        df[f] = df[f].astype(np.float32)\n",
    "\n",
    "    df = df[feats + [\"time\", \"target\", \"baseline\"]][df[feats].isna().sum(axis = 1) == 0]\n",
    "#     t = \"2020-01-01\"\n",
    "    t = \"2019-03-01\"\n",
    "#     t = \"2019-09-01\"\n",
    "#     t = \"2019-06-01\"\n",
    "    train = df[df[\"time\"] < datetime.datetime.strptime(t, '%Y-%m-%d')].reset_index(drop = True)\n",
    "    test = df[df[\"time\"] >= datetime.datetime.strptime(t, '%Y-%m-%d')].reset_index(drop = True)\n",
    "    train[feats] = train[feats].fillna(train[feats].mean())\n",
    "    print(train.shape, test.shape)\n",
    "    \n",
    "    th = 500\n",
    "    model = Ridge(1000)\n",
    "    model.fit(train[feats], np.clip(train[\"target\"], -th, th))\n",
    "    fi = pd.DataFrame()\n",
    "    fi[\"name\"] = feats\n",
    "    fi[\"coef\"] = model.coef_\n",
    "    fi[\"coef_abs\"] = np.abs(fi[\"coef\"])\n",
    "    fi = fi.sort_values(by = \"coef_abs\", ascending = False)\n",
    "    plt.figure(figsize = (8, 14))\n",
    "    sns.barplot(data = fi, x = \"coef\", y = \"name\")\n",
    "    plt.show()\n",
    "    \n",
    "    p = model.predict(test[feats])\n",
    "    corr = np.corrcoef(test[\"target\"], p)[0,1]\n",
    "    \n",
    "    for df in [train, test]:\n",
    "        p = model.predict(df[feats])\n",
    "        df[\"rev\"] = df[\"target\"]\n",
    "        plt.plot(df[\"rev\"].cumsum(), label = \"cumsum\")\n",
    "\n",
    "        df[\"rev\"] = df[\"target\"]\n",
    "        df.loc[df[\"baseline\"] == False, \"rev\"] *= -1\n",
    "        plt.plot(df[\"rev\"].cumsum(), label = \"2day before\")\n",
    "\n",
    "        df[\"rev\"] = df[\"target\"]\n",
    "        th = 0\n",
    "        df.loc[p < -th, \"rev\"] *= -1\n",
    "        df.loc[np.abs(p) < th, \"rev\"] *= 0\n",
    "        plt.plot(df[\"rev\"].cumsum(), label = \"proposed\")\n",
    "        plt.legend()\n",
    "        plt.show()\n",
    "        \n",
    "    print(np.sum(test[\"rev\"]))\n",
    "    return corr"
   ]
  },
  {
   "cell_type": "code",
   "execution_count": 262,
   "metadata": {},
   "outputs": [],
   "source": [
    "\n",
    "def feature_engineering(df):\n",
    "#     df = pd.read_pickle(\"data.pkl\")\n",
    "    df[\"target\"] = df[\"close\"].diff().shift(-1)\n",
    "    df[\"baseline\"] = (df[\"close\"] - df[\"open\"]).shift(1) > 0\n",
    "    \n",
    "    df[\"feature_c-o\"] = (df[\"close\"] - df[\"open\"])\n",
    "    df[\"feature_h-c\"] = (df[\"high\"] - df[\"close\"])\n",
    "    df[\"feature_l-c\"] = (df[\"low\"] - df[\"close\"])\n",
    "    df[\"feature_h-o\"] = (df[\"high\"] - df[\"open\"])\n",
    "    df[\"feature_l-o\"] = (df[\"low\"] - df[\"open\"])\n",
    "    df[\"feature_h-l\"] = (df[\"high\"] - df[\"low\"])\n",
    "\n",
    "    feats = [\"feature_c-o\", \"feature_h-c\", \"feature_l-c\", \"feature_h-o\", \"feature_l-o\", \"feature_h-l\"]\n",
    "    for f in feats:\n",
    "        for rol in [7, 14]:\n",
    "            df[f\"{f}_vs_roll{rol}\"] = df[f] > (df[f].rolling(rol).agg(\"mean\"))\n",
    "    for shift in range(1, 3):\n",
    "        for f in feats:\n",
    "            df[f + f\"_shift_{shift}\"] = df[f].shift(shift)\n",
    "            \n",
    "    df[\"feature_c-o_eth\"] = (df[\"close_eth\"] - df[\"open_eth\"])\n",
    "    df[\"feature_h-c_eth\"] = (df[\"high_eth\"] - df[\"close_eth\"])\n",
    "    df[\"feature_l-c_eth\"] = (df[\"low_eth\"] - df[\"close_eth\"])\n",
    "    df[\"feature_h-o_eth\"] = (df[\"high_eth\"] - df[\"open_eth\"])\n",
    "    df[\"feature_l-o_eth\"] = (df[\"low_eth\"] - df[\"open_eth\"])\n",
    "    df[\"feature_h-l_eth\"] = (df[\"high_eth\"] - df[\"low_eth\"])\n",
    "\n",
    "    feats = [\"feature_c-o_eth\", \"feature_h-c_eth\", \"feature_l-c_eth\", \"feature_h-o_eth\", \"feature_l-o_eth\", \"feature_h-l_eth\"]\n",
    "    for f in feats:\n",
    "        for rol in [7, 14]:\n",
    "            df[f\"{f}_vs_roll{rol}\"] = df[f] > (df[f].rolling(rol).agg(\"mean\"))\n",
    "    for shift in range(1, 3):\n",
    "        for f in feats:\n",
    "            df[f + f\"_shift_{shift}\"] = df[f].shift(shift)\n",
    "            \n",
    "            \n",
    "    for dep in [20, 30, 50, 90]:\n",
    "        df[f\"features_bid-ask{dep}\"] = df[f\"bids{dep}\"] - df[f\"asks{dep}\"]\n",
    "        for rol in [7, 14]:\n",
    "            df[f\"features_bid-ask{dep}_vs_roll{rol}\"] = df[f\"features_bid-ask{dep}\"] > (df[f\"features_bid-ask{dep}\"].rolling(rol).agg(\"mean\"))\n",
    "        df[f\"features_bid-ask{dep}\"] = df[f\"features_bid-ask{dep}\"] > 0\n",
    "    dep_cols = [c for c in df.columns if \"ask\" in c or \"bid\" in c and \"feature\" in c]\n",
    "    for shift in range(1, 2):\n",
    "        for c in dep_cols:\n",
    "            df[c + f\"_shift_{shift}\"] = df[c].shift(shift)\n",
    "\n",
    "    feats = [c for c in df.columns if \"feature\" in c]# + dep_shifts_cols\n",
    "    \n",
    "    for k in range(7):\n",
    "        df[f\"feature_dow_{k}\"] = df.index % 7 == k\n",
    "    \n",
    "    for f in feats:\n",
    "        df[f] = df[f] > 0\n",
    "#     print(len(feats))\n",
    "#     evaluate(df, feats)\n",
    "    \n",
    "    return df, feats"
   ]
  },
  {
   "cell_type": "code",
   "execution_count": 263,
   "metadata": {},
   "outputs": [
    {
     "name": "stdout",
     "output_type": "stream",
     "text": [
      "91\n",
      "(211, 94) (532, 94)\n"
     ]
    },
    {
     "data": {
      "image/png": "[encoded data removed]",
      "text/plain": [
       "<Figure size 576x1008 with 1 Axes>"
      ]
     },
     "metadata": {
      "needs_background": "light"
     },
     "output_type": "display_data"
    },
    {
     "data": {
      "image/png": "[encoded data removed]",
      "text/plain": [
       "<Figure size 432x288 with 1 Axes>"
      ]
     },
     "metadata": {
      "needs_background": "light"
     },
     "output_type": "display_data"
    },
    {
     "data": {
      "image/png": "[encoded data removed]",
      "text/plain": [
       "<Figure size 432x288 with 1 Axes>"
      ]
     },
     "metadata": {
      "needs_background": "light"
     },
     "output_type": "display_data"
    },
    {
     "name": "stdout",
     "output_type": "stream",
     "text": [
      "482.5\n"
     ]
    },
    {
     "data": {
      "text/plain": [
       "0.14943263152277733"
      ]
     },
     "execution_count": 263,
     "metadata": {},
     "output_type": "execute_result"
    }
   ],
   "source": [
    "import seaborn as sns\n",
    "df = pd.read_pickle(\"data.pkl\")\n",
    "df, feats = feature_engineering(df)\n",
    "df = df[df.isna().sum(axis = 1) == 0].reset_index(drop = True)\n",
    "\n",
    "feats = [c for c in df.columns if \"feature\" in c]# + dep_shifts_cols\n",
    "print(len(feats))\n",
    "evaluate(df, feats)"
   ]
  },
  {
   "cell_type": "code",
   "execution_count": null,
   "metadata": {},
   "outputs": [],
   "source": []
  },
  {
   "cell_type": "code",
   "execution_count": null,
   "metadata": {},
   "outputs": [],
   "source": []
  },
  {
   "cell_type": "code",
   "execution_count": 256,
   "metadata": {},
   "outputs": [],
   "source": [
    "\n",
    "for f in feats:\n",
    "    df[f] = df[f].astype(np.float32)\n",
    "\n",
    "df = df[feats + [\"time\", \"target\", \"baseline\"]][df[feats].isna().sum(axis = 1) == 0]\n",
    "# t = \"2020-01-01\"\n",
    "t = \"2019-03-01\"\n",
    "# t = \"2019-09-01\"\n",
    "# t = \"2019-06-01\"\n",
    "train = df[df[\"time\"] < datetime.datetime.strptime(t, '%Y-%m-%d')].reset_index(drop = True)\n",
    "test = df[df[\"time\"] >= datetime.datetime.strptime(t, '%Y-%m-%d')].reset_index(drop = True)\n",
    "train[feats] = train[feats].fillna(train[feats].mean())"
   ]
  },
  {
   "cell_type": "code",
   "execution_count": 280,
   "metadata": {},
   "outputs": [],
   "source": [
    "from scipy import optimize\n",
    "from functools import partial\n",
    "def eval_func(w, train, feats, lam = 0):\n",
    "    x = train[feats].values\n",
    "    target = train[\"target\"].values.copy()\n",
    "    p = np.dot(x, w[:-1]) + w[-1]\n",
    "    target[p<=0] *= -1\n",
    "    score = np.sum(target)\n",
    "    reg = np.sum(np.abs(w)) * lam\n",
    "    score = score - reg\n",
    "    return -score"
   ]
  },
  {
   "cell_type": "code",
   "execution_count": 258,
   "metadata": {},
   "outputs": [
    {
     "name": "stdout",
     "output_type": "stream",
     "text": [
      "Optimization terminated successfully.\n",
      "         Current function value: -8582.414332\n",
      "         Iterations: 3706\n",
      "         Function evaluations: 5067\n",
      "['feature_l-c' 'feature_l-o' 'feature_c-o_vs_roll14'\n",
      " 'feature_h-c_vs_roll7' 'feature_h-c_vs_roll14' 'feature_l-c_vs_roll7'\n",
      " 'feature_l-c_vs_roll14' 'feature_h-o_vs_roll7' 'feature_h-o_vs_roll14'\n",
      " 'feature_l-o_vs_roll7' 'feature_h-l_vs_roll7' 'feature_h-l_vs_roll14'\n",
      " 'feature_c-o_shift_1' 'feature_l-c_shift_1' 'feature_l-o_shift_1'\n",
      " 'feature_c-o_shift_2' 'feature_l-c_shift_2' 'feature_l-o_shift_2'\n",
      " 'feature_c-o_eth' 'feature_l-c_eth' 'feature_l-o_eth'\n",
      " 'feature_c-o_eth_vs_roll7' 'feature_c-o_eth_vs_roll14'\n",
      " 'feature_h-c_eth_vs_roll14' 'feature_l-c_eth_vs_roll14'\n",
      " 'feature_h-o_eth_vs_roll7' 'feature_h-o_eth_vs_roll14'\n",
      " 'feature_l-o_eth_vs_roll14' 'feature_h-l_eth_vs_roll7'\n",
      " 'feature_h-l_eth_vs_roll14' 'feature_c-o_eth_shift_1'\n",
      " 'feature_l-c_eth_shift_1' 'feature_l-o_eth_shift_1'\n",
      " 'feature_c-o_eth_shift_2' 'feature_l-c_eth_shift_2'\n",
      " 'feature_l-o_eth_shift_2' 'features_bid-ask20_vs_roll14'\n",
      " 'features_bid-ask30' 'features_bid-ask30_vs_roll7'\n",
      " 'features_bid-ask30_vs_roll14' 'features_bid-ask50_vs_roll7'\n",
      " 'features_bid-ask50_vs_roll14' 'features_bid-ask90'\n",
      " 'features_bid-ask90_vs_roll7' 'features_bid-ask90_vs_roll14'\n",
      " 'features_bid-ask20_shift_1' 'features_bid-ask20_vs_roll7_shift_1'\n",
      " 'features_bid-ask20_vs_roll14_shift_1' 'features_bid-ask30_shift_1'\n",
      " 'features_bid-ask30_vs_roll7_shift_1'\n",
      " 'features_bid-ask30_vs_roll14_shift_1' 'features_bid-ask50_shift_1'\n",
      " 'features_bid-ask50_vs_roll7_shift_1'\n",
      " 'features_bid-ask50_vs_roll14_shift_1' 'features_bid-ask90_shift_1'\n",
      " 'features_bid-ask90_vs_roll7_shift_1'\n",
      " 'features_bid-ask90_vs_roll14_shift_1' 'feature_dow_0' 'feature_dow_1'\n",
      " 'feature_dow_2' 'feature_dow_3' 'feature_dow_4' 'feature_dow_5'\n",
      " 'feature_dow_6']\n"
     ]
    },
    {
     "data": {
      "text/plain": [
       "-495.41433220514625"
      ]
     },
     "execution_count": 258,
     "metadata": {},
     "output_type": "execute_result"
    }
   ],
   "source": [
    "func = partial(eval_func, train = train, feats = feats)\n",
    "w = np.zeros(len(feats) + 1)\n",
    "w_opt = optimize.fmin(func, w)\n",
    "print(np.array(feats)[w_opt[:-1] > 0])\n",
    "eval_func(w_opt, test, feats)"
   ]
  },
  {
   "cell_type": "code",
   "execution_count": 264,
   "metadata": {},
   "outputs": [
    {
     "data": {
      "text/plain": [
       "-16231.5"
      ]
     },
     "execution_count": 264,
     "metadata": {},
     "output_type": "execute_result"
    }
   ],
   "source": [
    "w = [1 if c == \"feature_c-o_shift_1\" else 0 for c in feats] + [0]\n",
    "w = np.array(w)\n",
    "eval_func(w, test, feats)"
   ]
  },
  {
   "cell_type": "code",
   "execution_count": null,
   "metadata": {},
   "outputs": [],
   "source": []
  },
  {
   "cell_type": "code",
   "execution_count": 312,
   "metadata": {},
   "outputs": [
    {
     "data": {
      "text/plain": [
       "-482.5"
      ]
     },
     "execution_count": 312,
     "metadata": {},
     "output_type": "execute_result"
    }
   ],
   "source": [
    "feats = [c for c in df.columns if \"feature\" in c]# + dep_shifts_cols\n",
    "\n",
    "th = 500\n",
    "model = Ridge(1000)\n",
    "model.fit(train[feats], np.clip(train[\"target\"], -th, th))\n",
    "p = model.predict(test[feats])\n",
    "target = test[\"target\"].values.copy()\n",
    "target[p<=0] *= -1\n",
    "score = np.sum(target)\n",
    "-score"
   ]
  },
  {
   "cell_type": "code",
   "execution_count": null,
   "metadata": {},
   "outputs": [],
   "source": []
  },
  {
   "cell_type": "code",
   "execution_count": 313,
   "metadata": {},
   "outputs": [],
   "source": [
    "feats = [\"feature_dow_1\", \"features_bid-ask50_vs_roll7_shift_1\", \"feature_c-o_shift_1\", \"feature_h-o_eth_vs_roll14\"]"
   ]
  },
  {
   "cell_type": "code",
   "execution_count": 314,
   "metadata": {},
   "outputs": [
    {
     "data": {
      "text/plain": [
       "7768.5"
      ]
     },
     "execution_count": 314,
     "metadata": {},
     "output_type": "execute_result"
    }
   ],
   "source": [
    "th = 500\n",
    "model = Ridge(1000)\n",
    "model.fit(train[feats], np.clip(train[\"target\"], -th, th))\n",
    "p = model.predict(test[feats])\n",
    "target = test[\"target\"].values.copy()\n",
    "target[p<=0] *= -1\n",
    "score = np.sum(target)\n",
    "-score"
   ]
  },
  {
   "cell_type": "code",
   "execution_count": null,
   "metadata": {},
   "outputs": [],
   "source": []
  },
  {
   "cell_type": "code",
   "execution_count": null,
   "metadata": {},
   "outputs": [],
   "source": []
  },
  {
   "cell_type": "code",
   "execution_count": 302,
   "metadata": {},
   "outputs": [],
   "source": [
    "scores = []\n",
    "for k in range(len(feats)):\n",
    "    w = np.zeros(len(feats) + 1)\n",
    "    w[k] = 1\n",
    "    score = eval_func(w, train, feats)\n",
    "    scores.append(-score)"
   ]
  },
  {
   "cell_type": "code",
   "execution_count": 303,
   "metadata": {},
   "outputs": [],
   "source": [
    "d = pd.DataFrame()\n",
    "d[\"name\"] = feats\n",
    "d[\"score\"] = scores"
   ]
  },
  {
   "cell_type": "code",
   "execution_count": 305,
   "metadata": {
    "scrolled": false
   },
   "outputs": [
    {
     "data": {
      "text/html": [
       "<div>\n",
       "<style scoped>\n",
       "    .dataframe tbody tr th:only-of-type {\n",
       "        vertical-align: middle;\n",
       "    }\n",
       "\n",
       "    .dataframe tbody tr th {\n",
       "        vertical-align: top;\n",
       "    }\n",
       "\n",
       "    .dataframe thead th {\n",
       "        text-align: right;\n",
       "    }\n",
       "</style>\n",
       "<table border=\"1\" class=\"dataframe\">\n",
       "  <thead>\n",
       "    <tr style=\"text-align: right;\">\n",
       "      <th></th>\n",
       "      <th>name</th>\n",
       "      <th>score</th>\n",
       "    </tr>\n",
       "  </thead>\n",
       "  <tbody>\n",
       "    <tr>\n",
       "      <th>21</th>\n",
       "      <td>feature_h-o_shift_1</td>\n",
       "      <td>-3669.5</td>\n",
       "    </tr>\n",
       "    <tr>\n",
       "      <th>40</th>\n",
       "      <td>feature_l-c_eth_vs_roll7</td>\n",
       "      <td>-3640.5</td>\n",
       "    </tr>\n",
       "    <tr>\n",
       "      <th>0</th>\n",
       "      <td>feature_c-o</td>\n",
       "      <td>-3385.5</td>\n",
       "    </tr>\n",
       "    <tr>\n",
       "      <th>3</th>\n",
       "      <td>feature_h-o</td>\n",
       "      <td>-3250.5</td>\n",
       "    </tr>\n",
       "    <tr>\n",
       "      <th>25</th>\n",
       "      <td>feature_h-c_shift_2</td>\n",
       "      <td>-3231.5</td>\n",
       "    </tr>\n",
       "    <tr>\n",
       "      <th>59</th>\n",
       "      <td>feature_h-l_eth_shift_2</td>\n",
       "      <td>-3231.5</td>\n",
       "    </tr>\n",
       "    <tr>\n",
       "      <th>57</th>\n",
       "      <td>feature_h-o_eth_shift_2</td>\n",
       "      <td>-3231.5</td>\n",
       "    </tr>\n",
       "    <tr>\n",
       "      <th>29</th>\n",
       "      <td>feature_h-l_shift_2</td>\n",
       "      <td>-3231.5</td>\n",
       "    </tr>\n",
       "    <tr>\n",
       "      <th>55</th>\n",
       "      <td>feature_h-c_eth_shift_2</td>\n",
       "      <td>-3231.5</td>\n",
       "    </tr>\n",
       "    <tr>\n",
       "      <th>23</th>\n",
       "      <td>feature_h-l_shift_1</td>\n",
       "      <td>-3203.5</td>\n",
       "    </tr>\n",
       "    <tr>\n",
       "      <th>31</th>\n",
       "      <td>feature_h-c_eth</td>\n",
       "      <td>-3203.5</td>\n",
       "    </tr>\n",
       "    <tr>\n",
       "      <th>53</th>\n",
       "      <td>feature_h-l_eth_shift_1</td>\n",
       "      <td>-3203.5</td>\n",
       "    </tr>\n",
       "    <tr>\n",
       "      <th>35</th>\n",
       "      <td>feature_h-l_eth</td>\n",
       "      <td>-3203.5</td>\n",
       "    </tr>\n",
       "    <tr>\n",
       "      <th>5</th>\n",
       "      <td>feature_h-l</td>\n",
       "      <td>-3203.5</td>\n",
       "    </tr>\n",
       "    <tr>\n",
       "      <th>51</th>\n",
       "      <td>feature_h-o_eth_shift_1</td>\n",
       "      <td>-3203.5</td>\n",
       "    </tr>\n",
       "    <tr>\n",
       "      <th>49</th>\n",
       "      <td>feature_h-c_eth_shift_1</td>\n",
       "      <td>-3203.5</td>\n",
       "    </tr>\n",
       "    <tr>\n",
       "      <th>1</th>\n",
       "      <td>feature_h-c</td>\n",
       "      <td>-3203.5</td>\n",
       "    </tr>\n",
       "    <tr>\n",
       "      <th>33</th>\n",
       "      <td>feature_h-o_eth</td>\n",
       "      <td>-3203.5</td>\n",
       "    </tr>\n",
       "    <tr>\n",
       "      <th>19</th>\n",
       "      <td>feature_h-c_shift_1</td>\n",
       "      <td>-3203.5</td>\n",
       "    </tr>\n",
       "    <tr>\n",
       "      <th>27</th>\n",
       "      <td>feature_h-o_shift_2</td>\n",
       "      <td>-3100.5</td>\n",
       "    </tr>\n",
       "    <tr>\n",
       "      <th>41</th>\n",
       "      <td>feature_l-c_eth_vs_roll14</td>\n",
       "      <td>-3048.5</td>\n",
       "    </tr>\n",
       "    <tr>\n",
       "      <th>6</th>\n",
       "      <td>feature_c-o_vs_roll7</td>\n",
       "      <td>-3039.5</td>\n",
       "    </tr>\n",
       "    <tr>\n",
       "      <th>38</th>\n",
       "      <td>feature_h-c_eth_vs_roll7</td>\n",
       "      <td>-2115.5</td>\n",
       "    </tr>\n",
       "    <tr>\n",
       "      <th>15</th>\n",
       "      <td>feature_l-o_vs_roll14</td>\n",
       "      <td>-1780.5</td>\n",
       "    </tr>\n",
       "    <tr>\n",
       "      <th>14</th>\n",
       "      <td>feature_l-o_vs_roll7</td>\n",
       "      <td>-1549.5</td>\n",
       "    </tr>\n",
       "    <tr>\n",
       "      <th>44</th>\n",
       "      <td>feature_l-o_eth_vs_roll7</td>\n",
       "      <td>-1505.5</td>\n",
       "    </tr>\n",
       "    <tr>\n",
       "      <th>7</th>\n",
       "      <td>feature_c-o_vs_roll14</td>\n",
       "      <td>-939.5</td>\n",
       "    </tr>\n",
       "    <tr>\n",
       "      <th>12</th>\n",
       "      <td>feature_h-o_vs_roll7</td>\n",
       "      <td>-671.5</td>\n",
       "    </tr>\n",
       "    <tr>\n",
       "      <th>54</th>\n",
       "      <td>feature_c-o_eth_shift_2</td>\n",
       "      <td>-505.5</td>\n",
       "    </tr>\n",
       "    <tr>\n",
       "      <th>75</th>\n",
       "      <td>features_bid-ask30_shift_1</td>\n",
       "      <td>-275.5</td>\n",
       "    </tr>\n",
       "    <tr>\n",
       "      <th>...</th>\n",
       "      <td>...</td>\n",
       "      <td>...</td>\n",
       "    </tr>\n",
       "    <tr>\n",
       "      <th>64</th>\n",
       "      <td>features_bid-ask30_vs_roll7</td>\n",
       "      <td>2975.5</td>\n",
       "    </tr>\n",
       "    <tr>\n",
       "      <th>68</th>\n",
       "      <td>features_bid-ask50_vs_roll14</td>\n",
       "      <td>3184.5</td>\n",
       "    </tr>\n",
       "    <tr>\n",
       "      <th>47</th>\n",
       "      <td>feature_h-l_eth_vs_roll14</td>\n",
       "      <td>3198.5</td>\n",
       "    </tr>\n",
       "    <tr>\n",
       "      <th>4</th>\n",
       "      <td>feature_l-o</td>\n",
       "      <td>3203.5</td>\n",
       "    </tr>\n",
       "    <tr>\n",
       "      <th>2</th>\n",
       "      <td>feature_l-c</td>\n",
       "      <td>3203.5</td>\n",
       "    </tr>\n",
       "    <tr>\n",
       "      <th>50</th>\n",
       "      <td>feature_l-c_eth_shift_1</td>\n",
       "      <td>3203.5</td>\n",
       "    </tr>\n",
       "    <tr>\n",
       "      <th>20</th>\n",
       "      <td>feature_l-c_shift_1</td>\n",
       "      <td>3203.5</td>\n",
       "    </tr>\n",
       "    <tr>\n",
       "      <th>22</th>\n",
       "      <td>feature_l-o_shift_1</td>\n",
       "      <td>3203.5</td>\n",
       "    </tr>\n",
       "    <tr>\n",
       "      <th>26</th>\n",
       "      <td>feature_l-c_shift_2</td>\n",
       "      <td>3203.5</td>\n",
       "    </tr>\n",
       "    <tr>\n",
       "      <th>58</th>\n",
       "      <td>feature_l-o_eth_shift_2</td>\n",
       "      <td>3203.5</td>\n",
       "    </tr>\n",
       "    <tr>\n",
       "      <th>28</th>\n",
       "      <td>feature_l-o_shift_2</td>\n",
       "      <td>3203.5</td>\n",
       "    </tr>\n",
       "    <tr>\n",
       "      <th>56</th>\n",
       "      <td>feature_l-c_eth_shift_2</td>\n",
       "      <td>3203.5</td>\n",
       "    </tr>\n",
       "    <tr>\n",
       "      <th>32</th>\n",
       "      <td>feature_l-c_eth</td>\n",
       "      <td>3203.5</td>\n",
       "    </tr>\n",
       "    <tr>\n",
       "      <th>34</th>\n",
       "      <td>feature_l-o_eth</td>\n",
       "      <td>3203.5</td>\n",
       "    </tr>\n",
       "    <tr>\n",
       "      <th>52</th>\n",
       "      <td>feature_l-o_eth_shift_1</td>\n",
       "      <td>3203.5</td>\n",
       "    </tr>\n",
       "    <tr>\n",
       "      <th>82</th>\n",
       "      <td>features_bid-ask90_vs_roll7_shift_1</td>\n",
       "      <td>3230.5</td>\n",
       "    </tr>\n",
       "    <tr>\n",
       "      <th>76</th>\n",
       "      <td>features_bid-ask30_vs_roll7_shift_1</td>\n",
       "      <td>3230.5</td>\n",
       "    </tr>\n",
       "    <tr>\n",
       "      <th>87</th>\n",
       "      <td>feature_dow_3</td>\n",
       "      <td>3428.5</td>\n",
       "    </tr>\n",
       "    <tr>\n",
       "      <th>71</th>\n",
       "      <td>features_bid-ask90_vs_roll14</td>\n",
       "      <td>3514.5</td>\n",
       "    </tr>\n",
       "    <tr>\n",
       "      <th>65</th>\n",
       "      <td>features_bid-ask30_vs_roll14</td>\n",
       "      <td>3514.5</td>\n",
       "    </tr>\n",
       "    <tr>\n",
       "      <th>89</th>\n",
       "      <td>feature_dow_5</td>\n",
       "      <td>3540.5</td>\n",
       "    </tr>\n",
       "    <tr>\n",
       "      <th>37</th>\n",
       "      <td>feature_c-o_eth_vs_roll14</td>\n",
       "      <td>3692.5</td>\n",
       "    </tr>\n",
       "    <tr>\n",
       "      <th>73</th>\n",
       "      <td>features_bid-ask20_vs_roll7_shift_1</td>\n",
       "      <td>3860.5</td>\n",
       "    </tr>\n",
       "    <tr>\n",
       "      <th>43</th>\n",
       "      <td>feature_h-o_eth_vs_roll14</td>\n",
       "      <td>3962.5</td>\n",
       "    </tr>\n",
       "    <tr>\n",
       "      <th>74</th>\n",
       "      <td>features_bid-ask20_vs_roll14_shift_1</td>\n",
       "      <td>4194.5</td>\n",
       "    </tr>\n",
       "    <tr>\n",
       "      <th>77</th>\n",
       "      <td>features_bid-ask30_vs_roll14_shift_1</td>\n",
       "      <td>4210.5</td>\n",
       "    </tr>\n",
       "    <tr>\n",
       "      <th>83</th>\n",
       "      <td>features_bid-ask90_vs_roll14_shift_1</td>\n",
       "      <td>4210.5</td>\n",
       "    </tr>\n",
       "    <tr>\n",
       "      <th>18</th>\n",
       "      <td>feature_c-o_shift_1</td>\n",
       "      <td>4366.5</td>\n",
       "    </tr>\n",
       "    <tr>\n",
       "      <th>79</th>\n",
       "      <td>features_bid-ask50_vs_roll7_shift_1</td>\n",
       "      <td>4374.5</td>\n",
       "    </tr>\n",
       "    <tr>\n",
       "      <th>85</th>\n",
       "      <td>feature_dow_1</td>\n",
       "      <td>4466.5</td>\n",
       "    </tr>\n",
       "  </tbody>\n",
       "</table>\n",
       "<p>91 rows × 2 columns</p>\n",
       "</div>"
      ],
      "text/plain": [
       "                                    name   score\n",
       "21                   feature_h-o_shift_1 -3669.5\n",
       "40              feature_l-c_eth_vs_roll7 -3640.5\n",
       "0                            feature_c-o -3385.5\n",
       "3                            feature_h-o -3250.5\n",
       "25                   feature_h-c_shift_2 -3231.5\n",
       "59               feature_h-l_eth_shift_2 -3231.5\n",
       "57               feature_h-o_eth_shift_2 -3231.5\n",
       "29                   feature_h-l_shift_2 -3231.5\n",
       "55               feature_h-c_eth_shift_2 -3231.5\n",
       "23                   feature_h-l_shift_1 -3203.5\n",
       "31                       feature_h-c_eth -3203.5\n",
       "53               feature_h-l_eth_shift_1 -3203.5\n",
       "35                       feature_h-l_eth -3203.5\n",
       "5                            feature_h-l -3203.5\n",
       "51               feature_h-o_eth_shift_1 -3203.5\n",
       "49               feature_h-c_eth_shift_1 -3203.5\n",
       "1                            feature_h-c -3203.5\n",
       "33                       feature_h-o_eth -3203.5\n",
       "19                   feature_h-c_shift_1 -3203.5\n",
       "27                   feature_h-o_shift_2 -3100.5\n",
       "41             feature_l-c_eth_vs_roll14 -3048.5\n",
       "6                   feature_c-o_vs_roll7 -3039.5\n",
       "38              feature_h-c_eth_vs_roll7 -2115.5\n",
       "15                 feature_l-o_vs_roll14 -1780.5\n",
       "14                  feature_l-o_vs_roll7 -1549.5\n",
       "44              feature_l-o_eth_vs_roll7 -1505.5\n",
       "7                  feature_c-o_vs_roll14  -939.5\n",
       "12                  feature_h-o_vs_roll7  -671.5\n",
       "54               feature_c-o_eth_shift_2  -505.5\n",
       "75            features_bid-ask30_shift_1  -275.5\n",
       "..                                   ...     ...\n",
       "64           features_bid-ask30_vs_roll7  2975.5\n",
       "68          features_bid-ask50_vs_roll14  3184.5\n",
       "47             feature_h-l_eth_vs_roll14  3198.5\n",
       "4                            feature_l-o  3203.5\n",
       "2                            feature_l-c  3203.5\n",
       "50               feature_l-c_eth_shift_1  3203.5\n",
       "20                   feature_l-c_shift_1  3203.5\n",
       "22                   feature_l-o_shift_1  3203.5\n",
       "26                   feature_l-c_shift_2  3203.5\n",
       "58               feature_l-o_eth_shift_2  3203.5\n",
       "28                   feature_l-o_shift_2  3203.5\n",
       "56               feature_l-c_eth_shift_2  3203.5\n",
       "32                       feature_l-c_eth  3203.5\n",
       "34                       feature_l-o_eth  3203.5\n",
       "52               feature_l-o_eth_shift_1  3203.5\n",
       "82   features_bid-ask90_vs_roll7_shift_1  3230.5\n",
       "76   features_bid-ask30_vs_roll7_shift_1  3230.5\n",
       "87                         feature_dow_3  3428.5\n",
       "71          features_bid-ask90_vs_roll14  3514.5\n",
       "65          features_bid-ask30_vs_roll14  3514.5\n",
       "89                         feature_dow_5  3540.5\n",
       "37             feature_c-o_eth_vs_roll14  3692.5\n",
       "73   features_bid-ask20_vs_roll7_shift_1  3860.5\n",
       "43             feature_h-o_eth_vs_roll14  3962.5\n",
       "74  features_bid-ask20_vs_roll14_shift_1  4194.5\n",
       "77  features_bid-ask30_vs_roll14_shift_1  4210.5\n",
       "83  features_bid-ask90_vs_roll14_shift_1  4210.5\n",
       "18                   feature_c-o_shift_1  4366.5\n",
       "79   features_bid-ask50_vs_roll7_shift_1  4374.5\n",
       "85                         feature_dow_1  4466.5\n",
       "\n",
       "[91 rows x 2 columns]"
      ]
     },
     "execution_count": 305,
     "metadata": {},
     "output_type": "execute_result"
    }
   ],
   "source": [
    "d.sort_values(by = \"score\")"
   ]
  },
  {
   "cell_type": "code",
   "execution_count": 306,
   "metadata": {},
   "outputs": [
    {
     "data": {
      "text/plain": [
       "('feature_dow_1',\n",
       " 'ask50_vs_roll7_shift_1',\n",
       " 'feature_c-o_shift_1',\n",
       " 'feature_h-o_eth_vs_roll14')"
      ]
     },
     "execution_count": 306,
     "metadata": {},
     "output_type": "execute_result"
    }
   ],
   "source": []
  },
  {
   "cell_type": "code",
   "execution_count": null,
   "metadata": {},
   "outputs": [],
   "source": []
  }
 ],
 "metadata": {
  "kernelspec": {
   "display_name": "Python 3",
   "language": "python",
   "name": "python3"
  },
  "language_info": {
   "codemirror_mode": {
    "name": "ipython",
    "version": 3
   },
   "file_extension": ".py",
   "mimetype": "text/x-python",
   "name": "python",
   "nbconvert_exporter": "python",
   "pygments_lexer": "ipython3",
   "version": "3.6.6"
  }
 },
 "nbformat": 4,
 "nbformat_minor": 2
}
