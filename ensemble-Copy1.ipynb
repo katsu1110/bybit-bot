{
 "cells": [
  {
   "cell_type": "code",
   "execution_count": 1,
   "metadata": {},
   "outputs": [],
   "source": [
    "import json\n",
    "import time\n",
    "import datetime\n",
    "import requests\n",
    "import pybybit\n",
    "import numpy as np\n",
    "import pandas as pd\n",
    "from sklearn.linear_model import LinearRegression, Ridge\n",
    "\n",
    "from config import get_config\n",
    "from logic_funcs import feature_engineering, get_model, logic, pred_logic\n",
    "from data_get_funcs import get_btc_ohlcv, get_depth, get_data\n",
    "from bybit_funcs import get_position, market_order, limit_order, limit_multi_order\n",
    "from utils import discord_Notify\n",
    "import warnings\n",
    "warnings.filterwarnings('ignore')\n",
    "\n",
    "config = get_config()\n",
    "discord_url = config['discord_url']\n",
    "apis = [\n",
    "    config['api'],\n",
    "    config['secret']\n",
    "]\n",
    "bybit = pybybit.API(*apis, testnet=config['testnet'])"
   ]
  },
  {
   "cell_type": "code",
   "execution_count": 2,
   "metadata": {},
   "outputs": [
    {
     "name": "stdout",
     "output_type": "stream",
     "text": [
      "get btc ohlcv...\n",
      "get depth...\n",
      "get eth...\n"
     ]
    }
   ],
   "source": []
  },
  {
   "cell_type": "code",
   "execution_count": 35,
   "metadata": {},
   "outputs": [
    {
     "data": {
      "image/png": "[encoded data removed]",
      "text/plain": [
       "<Figure size 432x288 with 1 Axes>"
      ]
     },
     "metadata": {
      "needs_background": "light"
     },
     "output_type": "display_data"
    }
   ],
   "source": []
  },
  {
   "cell_type": "code",
   "execution_count": null,
   "metadata": {},
   "outputs": [],
   "source": []
  },
  {
   "cell_type": "code",
   "execution_count": null,
   "metadata": {},
   "outputs": [],
   "source": []
  },
  {
   "cell_type": "code",
   "execution_count": null,
   "metadata": {},
   "outputs": [],
   "source": []
  },
  {
   "cell_type": "code",
   "execution_count": null,
   "metadata": {},
   "outputs": [],
   "source": []
  },
  {
   "cell_type": "code",
   "execution_count": null,
   "metadata": {},
   "outputs": [],
   "source": []
  },
  {
   "cell_type": "code",
   "execution_count": null,
   "metadata": {},
   "outputs": [],
   "source": [
    "if p > 0"
   ]
  },
  {
   "cell_type": "code",
   "execution_count": 10,
   "metadata": {},
   "outputs": [
    {
     "data": {
      "text/plain": [
       "0.8"
      ]
     },
     "execution_count": 10,
     "metadata": {},
     "output_type": "execute_result"
    }
   ],
   "source": [
    "p"
   ]
  },
  {
   "cell_type": "code",
   "execution_count": 13,
   "metadata": {},
   "outputs": [
    {
     "data": {
      "text/plain": [
       "87.5"
      ]
     },
     "execution_count": 13,
     "metadata": {},
     "output_type": "execute_result"
    }
   ],
   "source": [
    "df.iloc[-1][\"close\"] - df.iloc[-1][\"open\"]"
   ]
  },
  {
   "cell_type": "code",
   "execution_count": null,
   "metadata": {},
   "outputs": [],
   "source": []
  },
  {
   "cell_type": "code",
   "execution_count": null,
   "metadata": {},
   "outputs": [],
   "source": []
  },
  {
   "cell_type": "code",
   "execution_count": null,
   "metadata": {},
   "outputs": [],
   "source": []
  },
  {
   "cell_type": "code",
   "execution_count": null,
   "metadata": {},
   "outputs": [],
   "source": [
    "def test_logic():\n",
    "    df = get_data()\n",
    "    df, feats = feature_engineering(df)\n",
    "    df = df.iloc[df.isna()]\n",
    "    for k in range(len(df))\n",
    "    p = pred_logic(df, feats)"
   ]
  },
  {
   "cell_type": "code",
   "execution_count": null,
   "metadata": {},
   "outputs": [],
   "source": []
  },
  {
   "cell_type": "code",
   "execution_count": null,
   "metadata": {},
   "outputs": [],
   "source": []
  },
  {
   "cell_type": "code",
   "execution_count": null,
   "metadata": {},
   "outputs": [],
   "source": []
  },
  {
   "cell_type": "code",
   "execution_count": null,
   "metadata": {},
   "outputs": [],
   "source": []
  },
  {
   "cell_type": "code",
   "execution_count": null,
   "metadata": {},
   "outputs": [],
   "source": []
  },
  {
   "cell_type": "code",
   "execution_count": 1,
   "metadata": {},
   "outputs": [],
   "source": [
    "import json\n",
    "import time\n",
    "import datetime\n",
    "import requests\n",
    "import pybybit\n",
    "import numpy as np\n",
    "import pandas as pd\n",
    "from sklearn.linear_model import LinearRegression, Ridge\n",
    "\n",
    "from config import get_config\n",
    "from logic_funcs import feature_engineering, get_model, logic\n",
    "from data_get_funcs import get_btc_ohlcv, get_depth, get_data\n",
    "from bybit_funcs import get_position, market_order\n",
    "from utils import discord_Notify\n",
    "\n"
   ]
  },
  {
   "cell_type": "code",
   "execution_count": 2,
   "metadata": {},
   "outputs": [
    {
     "name": "stdout",
     "output_type": "stream",
     "text": [
      "[21.48311748]\n"
     ]
    }
   ],
   "source": [
    "df = get_data()\n",
    "df, feats = feature_engineering(df)\n",
    "model = get_model(df, feats)\n",
    "p = model.predict(df[feats].values[-1].reshape(1, -1))\n",
    "print(p)"
   ]
  },
  {
   "cell_type": "code",
   "execution_count": null,
   "metadata": {},
   "outputs": [],
   "source": []
  },
  {
   "cell_type": "code",
   "execution_count": null,
   "metadata": {},
   "outputs": [],
   "source": []
  },
  {
   "cell_type": "code",
   "execution_count": 3,
   "metadata": {},
   "outputs": [],
   "source": [
    "from bitmex import bitmex\n",
    "def get_eth():\n",
    "    config = get_config()\n",
    "    bitmex_client = bitmex(test=False, api_key=config[\"bitmex_key\"], api_secret=config[\"bitmex_secret\"])\n",
    "    symbol = \"ETH\"\n",
    "    t = datetime.datetime.strptime(\"2018-8\", \"%Y-%M\") ## これより過去は取れない\n",
    "    df_eth = pd.DataFrame(bitmex_client.Trade.Trade_getBucketed(symbol=symbol, binSize=\"1d\", count=1000, reverse=False, startTime = t).result()[0])\n",
    "    df_eth = df_eth[[\"timestamp\", \"open\", \"high\", \"low\", \"close\", \"trades\", \"volume\", \"vwap\"]]\n",
    "    df_eth = df_eth.add_suffix(\"_eth\")\n",
    "    df_eth[\"time\"] = df_eth[\"timestamp_eth\"].apply(lambda a : datetime.datetime.strptime(str(a).split(\"+\")[0], \"%Y-%m-%d  %H:%M:%S\"))\n",
    "    return df_eth"
   ]
  },
  {
   "cell_type": "code",
   "execution_count": 4,
   "metadata": {},
   "outputs": [],
   "source": [
    "\n",
    "def get_data():\n",
    "    data = get_btc_ohlcv()\n",
    "    dep = get_depth()\n",
    "    df = data.merge(dep)\n",
    "#     eth = get_eth()\n",
    "#     df = df.merge(eth, on = \"time\")\n",
    "    feats = [\"time\", \"close\", \"open\", \"high\", \"low\", \"volume\",\n",
    "    \"asks5\", \"bids5\", \"asks10\", \"bids10\", \"asks20\", \"bids20\", \"asks30\", \"bids30\", \"asks50\", \"bids50\", \"asks90\", \"bids90\"]\n",
    "#     feats += [\"open_eth\", \"high_eth\", \"low_eth\", \"close_eth\", \"trades_eth\", \"volume_eth\", \"vwap_eth\"]\n",
    "    df = df[feats]\n",
    "    return df\n"
   ]
  },
  {
   "cell_type": "code",
   "execution_count": 5,
   "metadata": {},
   "outputs": [],
   "source": [
    "df = get_data()"
   ]
  },
  {
   "cell_type": "code",
   "execution_count": 6,
   "metadata": {},
   "outputs": [],
   "source": [
    "pd.to_pickle(df, \"data.pkl\")"
   ]
  },
  {
   "cell_type": "code",
   "execution_count": null,
   "metadata": {},
   "outputs": [],
   "source": []
  },
  {
   "cell_type": "code",
   "execution_count": null,
   "metadata": {},
   "outputs": [],
   "source": []
  },
  {
   "cell_type": "code",
   "execution_count": null,
   "metadata": {},
   "outputs": [],
   "source": []
  },
  {
   "cell_type": "code",
   "execution_count": 7,
   "metadata": {},
   "outputs": [],
   "source": [
    "\n",
    "def feature_engineering(df):\n",
    "#     df = pd.read_pickle(\"data.pkl\")\n",
    "    df[\"target\"] = df[\"close\"].diff().shift(-1)\n",
    "    df[\"baseline\"] = (df[\"close\"] - df[\"open\"]).shift(1) > 0\n",
    "    \n",
    "    df[\"feature_c-o\"] = (df[\"close\"] - df[\"open\"])\n",
    "    df[\"feature_h-c\"] = (df[\"high\"] - df[\"close\"])\n",
    "    df[\"feature_l-c\"] = (df[\"low\"] - df[\"close\"])\n",
    "    df[\"feature_h-o\"] = (df[\"high\"] - df[\"open\"])\n",
    "    df[\"feature_l-o\"] = (df[\"low\"] - df[\"open\"])\n",
    "    df[\"feature_h-l\"] = (df[\"high\"] - df[\"low\"])\n",
    "\n",
    "    feats = [\"feature_c-o\", \"feature_h-c\", \"feature_l-c\", \"feature_h-o\", \"feature_l-o\", \"feature_h-l\"]\n",
    "    for shift in range(1, 3):\n",
    "        for f in feats:\n",
    "            df[f + f\"_shift_{shift}\"] = df[f].shift(shift)\n",
    "    feats = [c for c in df.columns if \"feature\" in c]\n",
    "    for f in feats:\n",
    "        for rol in [7, 14]:\n",
    "            df[f\"{f}_vs_roll{rol}\"] = df[f] > (df[f].rolling(rol).agg(\"mean\"))\n",
    "            \n",
    "#     df[\"feature_c-o_eth\"] = (df[\"close_eth\"] - df[\"open_eth\"])\n",
    "#     df[\"feature_h-c_eth\"] = (df[\"high_eth\"] - df[\"close_eth\"])\n",
    "#     df[\"feature_l-c_eth\"] = (df[\"low_eth\"] - df[\"close_eth\"])\n",
    "#     df[\"feature_h-o_eth\"] = (df[\"high_eth\"] - df[\"open_eth\"])\n",
    "#     df[\"feature_l-o_eth\"] = (df[\"low_eth\"] - df[\"open_eth\"])\n",
    "#     df[\"feature_h-l_eth\"] = (df[\"high_eth\"] - df[\"low_eth\"])\n",
    "\n",
    "#     feats = [\"feature_c-o_eth\", \"feature_h-c_eth\", \"feature_l-c_eth\", \"feature_h-o_eth\", \"feature_l-o_eth\", \"feature_h-l_eth\"]\n",
    "#     for f in feats:\n",
    "#         for rol in [7, 14]:\n",
    "#             df[f\"{f}_vs_roll{rol}\"] = df[f] > (df[f].rolling(rol).agg(\"mean\"))\n",
    "#     for shift in range(1, 3):\n",
    "#         for f in feats:\n",
    "#             df[f + f\"_shift_{shift}\"] = df[f].shift(shift)\n",
    "            \n",
    "            \n",
    "    for dep in [20, 30, 50, 90]:\n",
    "        df[f\"features_bid-ask{dep}\"] = df[f\"bids{dep}\"] - df[f\"asks{dep}\"]\n",
    "        for rol in [7, 14]:\n",
    "            df[f\"features_bid-ask{dep}_vs_roll{rol}\"] = df[f\"features_bid-ask{dep}\"] > (df[f\"features_bid-ask{dep}\"].rolling(rol).agg(\"mean\"))\n",
    "        df[f\"features_bid-ask{dep}\"] = df[f\"features_bid-ask{dep}\"] > 0\n",
    "    dep_cols = [c for c in df.columns if \"ask\" in c or \"bid\" in c and \"feature\" in c]\n",
    "    for shift in range(1, 2):\n",
    "        for c in dep_cols:\n",
    "            df[c + f\"_shift_{shift}\"] = df[c].shift(shift)\n",
    "\n",
    "    feats = [c for c in df.columns if \"feature\" in c]# + dep_shifts_cols\n",
    "    \n",
    "    for k in range(7):\n",
    "        df[f\"feature_dow_{k}\"] = df.index % 7 == k\n",
    "    \n",
    "    for f in feats:\n",
    "        df[f] = df[f] > 0\n",
    "#     print(len(feats))\n",
    "#     evaluate(df, feats)\n",
    "    \n",
    "    return df, feats"
   ]
  },
  {
   "cell_type": "code",
   "execution_count": 8,
   "metadata": {},
   "outputs": [],
   "source": [
    "import matplotlib.pyplot as plt\n",
    "%matplotlib inline\n",
    "import seaborn as sns\n",
    "from sklearn.linear_model import LinearRegression, Ridge, Lasso, LogisticRegression\n",
    "from sklearn.neighbors import KNeighborsRegressor\n",
    "from lightgbm import LGBMRegressor, LGBMClassifier\n",
    "from sklearn.neural_network import MLPRegressor\n",
    "from sklearn.svm import SVR\n",
    "from sklearn.metrics import roc_auc_score\n",
    "from sklearn.preprocessing import StandardScaler\n",
    "\n",
    "def evaluate(df, feats, t):\n",
    "    for f in feats:\n",
    "        df[f] = df[f].astype(np.float32)\n",
    "\n",
    "    df = df[feats + [\"time\", \"target\", \"baseline\"]][df[feats].isna().sum(axis = 1) == 0]\n",
    "    train = df[df[\"time\"] < datetime.datetime.strptime(t, '%Y-%m-%d')].reset_index(drop = True)\n",
    "    test = df[df[\"time\"] >= datetime.datetime.strptime(t, '%Y-%m-%d')].reset_index(drop = True)\n",
    "    train[feats] = train[feats].fillna(train[feats].mean())\n",
    "    print(train.shape, test.shape)\n",
    "    \n",
    "#     model = Ridge(5000)\n",
    "\n",
    "    model = Model(th = 200, mean_subtract = True)\n",
    "    model.fit(train[feats], train[\"target\"])\n",
    "#     model.fit(train[feats], np.clip(train[\"target\"], -th, th) > 0, sample_weight = np.abs(train[\"target\"]))\n",
    "    \n",
    "#     fi = pd.DataFrame()\n",
    "#     fi[\"name\"] = feats\n",
    "#     fi[\"coef\"] = model.coef_.flatten()\n",
    "#     fi[\"coef_abs\"] = np.abs(fi[\"coef\"])\n",
    "#     fi = fi.sort_values(by = \"coef_abs\", ascending = False)\n",
    "#     plt.figure(figsize = (8, 14))\n",
    "#     sns.barplot(data = fi, x = \"coef\", y = \"name\")\n",
    "#     plt.show()\n",
    "    \n",
    "    p = model.predict(test[feats])# - 0.5\n",
    "    corr = np.corrcoef(test[\"target\"], p)[0,1]\n",
    "    \n",
    "    for df in [train, test]:\n",
    "        p = model.predict(df[feats])# - 0.5\n",
    "        df[\"rev\"] = df[\"target\"]\n",
    "        plt.plot(df[\"rev\"].cumsum(), label = \"cumsum\")\n",
    "\n",
    "        df[\"rev\"] = df[\"target\"]\n",
    "        df.loc[df[\"baseline\"] == False, \"rev\"] *= -1\n",
    "        plt.plot(df[\"rev\"].cumsum(), label = \"2day before\")\n",
    "        \n",
    "        df[\"rev\"] = df[\"target\"]\n",
    "        df.loc[df[\"features_bid-ask20_vs_roll14\"] == False, \"rev\"] *= -1\n",
    "        plt.plot(df[\"rev\"].cumsum(), label = \"features_bid-ask20_vs_roll14\")\n",
    "\n",
    "        df[\"rev\"] = df[\"target\"]\n",
    "        df.loc[df[\"baseline\"] == False, \"rev\"] *= -1\n",
    "        plt.plot(df[\"rev\"].cumsum(), label = \"2day before\")\n",
    "        \n",
    "        df[\"rev\"] = df[\"target\"]\n",
    "        \n",
    "        df.loc[df[\"features_bid-ask20_vs_roll14\"] == False, \"rev\"] *= -1\n",
    "        plt.plot(df[\"rev\"].cumsum(), label = \"features_bid-ask20_vs_roll14\")\n",
    "\n",
    "        df[\"rev\"] = df[\"target\"]\n",
    "        th = 0\n",
    "        df.loc[p < -th, \"rev\"] *= -1\n",
    "#         df.loc[(p > 0) != (df[\"baseline\"]), \"rev\"] = 0\n",
    "        df.loc[np.abs(p) < th, \"rev\"] *= 0\n",
    "        plt.plot(df[\"rev\"].cumsum(), label = \"ml\")\n",
    "        plt.legend()\n",
    "        plt.show()\n",
    "        \n",
    "    print(np.sum(test[\"rev\"]))\n",
    "    return corr"
   ]
  },
  {
   "cell_type": "code",
   "execution_count": 9,
   "metadata": {},
   "outputs": [],
   "source": [
    "from scipy import optimize\n",
    "from functools import partial\n",
    "\n",
    "class Opt():\n",
    "    def __init__(self):\n",
    "        pass\n",
    "    \n",
    "    def fit(self, x, y):\n",
    "        func = partial(self.eval_func, x = x, y = y, lam = 1)\n",
    "        w = np.zeros(x.shape[1] + 1)\n",
    "        w_opt = optimize.fmin(func, w)\n",
    "        self.w_opt = w_opt\n",
    "        \n",
    "    def eval_func(self, w, x, y, lam = 0):\n",
    "        p = np.dot(x, w[:-1]) + w[-1]\n",
    "        y_ = y.copy()\n",
    "        y_[p<=0] *= -1\n",
    "        score = np.sum(y_)\n",
    "        reg = np.sum(np.abs(w)) * lam\n",
    "        score = score - reg\n",
    "        return -score\n",
    "    \n",
    "    def predict(self, x):\n",
    "        if x.ndim == 1:\n",
    "            x = x.reshape(1, -1)\n",
    "        return np.array(x.dot(self.w_opt[:-1]) + self.w_opt[-1])"
   ]
  },
  {
   "cell_type": "code",
   "execution_count": 10,
   "metadata": {},
   "outputs": [],
   "source": [
    "\n",
    "class Model():\n",
    "    def __init__(self, th = 200, mean_subtract = False):\n",
    "        self.th = th\n",
    "        self.mean_subtract = mean_subtract\n",
    "        self.models = [\n",
    "            Ridge(100),\n",
    "            LGBMRegressor(max_depth=5, colsample_bytree=0.9, subsample=0.9,\n",
    "                      subsample_freq=1, reg_alpha = 1, reg_lambda = 1, min_split_gain=1),\n",
    "            SVR(),\n",
    "#             MLPRegressor(hidden_layer_sizes=(16))\n",
    "        ]\n",
    "        self.weights = [1/40, 1/150, 1/4]#, 1/50]\n",
    "    def fit(self, x, y):\n",
    "        y = np.clip(y, -self.th, self.th)\n",
    "        if self.mean_subtract:\n",
    "            y = y - np.mean(y)\n",
    "        for model in self.models:\n",
    "            model.fit(x, y)\n",
    "    def predict(self, x):\n",
    "        p = 0\n",
    "        for model, w in zip(self.models, self.weights):\n",
    "            p_ = model.predict(x) * w\n",
    "            print(np.min(p_), np.median(p_), np.max(p_))\n",
    "            p += p_\n",
    "        return p"
   ]
  },
  {
   "cell_type": "code",
   "execution_count": 11,
   "metadata": {},
   "outputs": [
    {
     "name": "stdout",
     "output_type": "stream",
     "text": [
      "85\n",
      "(655, 88) (591, 88)\n",
      "-1.2319410074143773 0.022987509339246162 1.2088102456220182\n",
      "-1.2275778842584164 0.038250347130314534 1.0499441552621307\n",
      "0.02520094561101005 1.1586390397731317 2.207902982726085\n",
      "-1.5108504918119416 0.0034254509831988856 1.3580690173663557\n",
      "-1.3069442379835186 0.02819434556548829 1.2294323585042322\n",
      "0.02625183878197901 1.1125131525549101 2.3225771118716585\n"
     ]
    },
    {
     "data": {
      "image/png": "[encoded data removed]",
      "text/plain": [
       "<Figure size 432x288 with 1 Axes>"
      ]
     },
     "metadata": {
      "needs_background": "light"
     },
     "output_type": "display_data"
    },
    {
     "name": "stdout",
     "output_type": "stream",
     "text": [
      "-1.2319410074143773 0.022987509339246162 1.2088102456220182\n",
      "-1.2275778842584164 0.038250347130314534 1.0499441552621307\n",
      "0.02520094561101005 1.1586390397731317 2.207902982726085\n"
     ]
    },
    {
     "data": {
      "image/png": "[encoded data removed]",
      "text/plain": [
       "<Figure size 432x288 with 1 Axes>"
      ]
     },
     "metadata": {
      "needs_background": "light"
     },
     "output_type": "display_data"
    },
    {
     "name": "stdout",
     "output_type": "stream",
     "text": [
      "18366.5\n"
     ]
    },
    {
     "data": {
      "text/plain": [
       "0.06863500471333527"
      ]
     },
     "execution_count": 11,
     "metadata": {},
     "output_type": "execute_result"
    }
   ],
   "source": [
    "import seaborn as sns\n",
    "df = pd.read_pickle(\"data.pkl\")\n",
    "df, feats = feature_engineering(df)\n",
    "df = df[df.isna().sum(axis = 1) == 0].reset_index(drop = True)\n",
    "feats = [c for c in df.columns if \"feature\" in c]# + dep_shifts_cols\n",
    "print(len(feats))\n",
    "\n",
    "t = \"2019-01-01\"\n",
    "# t = \"2019-03-01\"\n",
    "# t = \"2019-06-01\"\n",
    "# t = \"2019-09-01\"\n",
    "# t = \"2020-01-01\"\n",
    "# t = \"2020-04-01\"\n",
    "evaluate(df, feats, t)"
   ]
  },
  {
   "cell_type": "code",
   "execution_count": null,
   "metadata": {},
   "outputs": [],
   "source": []
  },
  {
   "cell_type": "code",
   "execution_count": null,
   "metadata": {},
   "outputs": [],
   "source": []
  },
  {
   "cell_type": "code",
   "execution_count": null,
   "metadata": {},
   "outputs": [],
   "source": []
  },
  {
   "cell_type": "code",
   "execution_count": null,
   "metadata": {},
   "outputs": [],
   "source": []
  },
  {
   "cell_type": "code",
   "execution_count": null,
   "metadata": {},
   "outputs": [],
   "source": []
  },
  {
   "cell_type": "code",
   "execution_count": null,
   "metadata": {},
   "outputs": [],
   "source": []
  },
  {
   "cell_type": "code",
   "execution_count": null,
   "metadata": {},
   "outputs": [],
   "source": []
  }
 ],
 "metadata": {
  "kernelspec": {
   "display_name": "Python 3",
   "language": "python",
   "name": "python3"
  },
  "language_info": {
   "codemirror_mode": {
    "name": "ipython",
    "version": 3
   },
   "file_extension": ".py",
   "mimetype": "text/x-python",
   "name": "python",
   "nbconvert_exporter": "python",
   "pygments_lexer": "ipython3",
   "version": "3.6.6"
  }
 },
 "nbformat": 4,
 "nbformat_minor": 2
}
